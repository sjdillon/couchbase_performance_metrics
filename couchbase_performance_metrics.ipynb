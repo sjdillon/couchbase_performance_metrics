{
 "cells": [
  {
   "cell_type": "markdown",
   "metadata": {},
   "source": [
    "# How To Get Couchbase Performance Metrics With Python"
   ]
  },
  {
   "cell_type": "markdown",
   "metadata": {},
   "source": [
    "### Part 1: Collecting Couchbase metrics from the Couchbase API"
   ]
  },
  {
   "cell_type": "markdown",
   "metadata": {},
   "source": [
    "### Introduction"
   ]
  },
  {
   "cell_type": "markdown",
   "metadata": {},
   "source": [
    "Couchbase provides an administration console with graphs of performance metrics as well as a [REST](https://developer.couchbase.com/documentation/server/3.x/admin/REST/rest-bucket-stats.html) interface. The graphs are useful for quick analysis, but the console lacks the ability to view metrics graphed over each other and give no way of exporting the raw data.\n",
    "\n",
    "This article shows how to retrieve metric data from the REST api and examples of how to plot the data for deeper analysis and visualization.  It includes a python class that can be imported and used to simplify the data extraction process."
   ]
  },
  {
   "cell_type": "markdown",
   "metadata": {},
   "source": [
    "### Quick Starter on getting Couchbase metrics "
   ]
  },
  {
   "cell_type": "markdown",
   "metadata": {},
   "source": [
    "The Clicker class abstracts the REST call to retrieve bucket data.  Use it as an example of how to extract bucket statistics from the Couchbase REST API or import it directly into your python code and use it."
   ]
  },
  {
   "cell_type": "markdown",
   "metadata": {},
   "source": [
    "### Getting Started"
   ]
  },
  {
   "cell_type": "markdown",
   "metadata": {},
   "source": [
    "Install the modules using pip.  These will be used for data and visualization."
   ]
  },
  {
   "cell_type": "code",
   "execution_count": 1,
   "metadata": {
    "scrolled": true
   },
   "outputs": [],
   "source": [
    "!pip -q install pandas numpy matplotlib"
   ]
  },
  {
   "cell_type": "markdown",
   "metadata": {},
   "source": [
    "Review the Clicker class.  This will be used to pull the data from couchbase.  You will see how it's used as we work through the data."
   ]
  },
  {
   "cell_type": "code",
   "execution_count": 2,
   "metadata": {},
   "outputs": [],
   "source": [
    "# %load clicker.py\n",
    "import requests\n",
    "import numpy\n",
    "import datetime\n",
    "import time\n",
    "import csv\n",
    "import json\n",
    "import logging\n",
    "\n",
    "logging.basicConfig(format=\"%(asctime)s - %(thread)s - %(levelname)s - %(message)s\")\n",
    "logger = logging.getLogger()\n",
    "logger.setLevel(logging.INFO)\n",
    "\n",
    "class Clicker:\n",
    "    \"\"\" gets stuff from the couch \"\"\"\n",
    "    def __init__(self, event):\n",
    "        if 'debug' in event and event['debug'] == True:\n",
    "            self._set_logger(logging.DEBUG)\n",
    "        self.event = event\n",
    "        self.host = event['host']\n",
    "        self.bucket = event['bucket']\n",
    "        self.zoom = event['zoom']\n",
    "        self.metrics = event['metrics']\n",
    "        self.creds = event['creds']\n",
    "        self.session = self.get_session()\n",
    "        self.uri = self.geturi()\n",
    "        logger.debug(event)\n",
    "\n",
    "    def _set_logger(self, level=logging.INFO):\n",
    "        logger.setLevel(level)\n",
    "\n",
    "    def get_session(self):\n",
    "        session = requests.Session()\n",
    "        return session\n",
    "\n",
    "    def geturi(self):\n",
    "        url = \"http://{host}:8091/pools/default/buckets/{bucket}/stats?zoom={zoom}\".format(host=self.host,\n",
    "                                                                                           bucket=self.bucket,\n",
    "                                                                                           zoom=self.zoom)\n",
    "        return url\n",
    "\n",
    "    def getraw(self):\n",
    "        raw_data = self.session.get(\"%s\" % (self.uri), auth=(self.creds[0], self.creds[1])).json()\n",
    "        return raw_data\n",
    "\n",
    "    def getdata(self):\n",
    "        data = self.getraw()\n",
    "        return_data = []\n",
    "        ts = data['op']['samples']['timestamp']\n",
    "        for metric in self.metrics:\n",
    "            if metric in data['op']['samples']:\n",
    "                dataset = data['op']['samples'][metric]\n",
    "                if 'mem' in metric or 'disk_size' in metric:\n",
    "                    dataset[:] = [int(x / (1024 * 1024)) for x in metrics]\n",
    "                return_data.append(dataset)\n",
    "            else:\n",
    "                return False\n",
    "        return ts, return_data"
   ]
  },
  {
   "cell_type": "markdown",
   "metadata": {},
   "source": [
    "## Imports"
   ]
  },
  {
   "cell_type": "markdown",
   "metadata": {},
   "source": [
    "Now we begin building our python routine.  Import the modules."
   ]
  },
  {
   "cell_type": "code",
   "execution_count": null,
   "metadata": {},
   "outputs": [],
   "source": [
    "#import clicker\n",
    "import numpy as np\n",
    "import matplotlib.pyplot as plt\n",
    "import matplotlib.dates as mdates\n",
    "import pandas as pd"
   ]
  },
  {
   "cell_type": "markdown",
   "metadata": {},
   "source": [
    "## Input"
   ]
  },
  {
   "cell_type": "markdown",
   "metadata": {},
   "source": [
    "The clicker class takes a dictionary object as a parameter.  It will specify all the information needed to retrieve the metrics we want.  After running through this example, go back to this part and change these values to extract different metrics.  You will need to rerun the steps below to load the new data also."
   ]
  },
  {
   "cell_type": "code",
   "execution_count": 4,
   "metadata": {},
   "outputs": [],
   "source": [
    "event = {\n",
    "    'host':'10.10.10.60',\n",
    "    'bucket': 'NeonCache',\n",
    "    'zoom': 'day',\n",
    "    'metrics': ['cmd_set','cmd_get','cpu_utilization_rate'],\n",
    "    'creds' : ['readonly', 'xxxxxxxxxxxx']\n",
    "    }"
   ]
  },
  {
   "cell_type": "markdown",
   "metadata": {},
   "source": [
    "## Get Data"
   ]
  },
  {
   "cell_type": "markdown",
   "metadata": {},
   "source": [
    "Let's pull the data from couchbase.  Create a function called *get_metrics* that will instantiate a Clicker object and run *getdata*.  Remember, the event created above will tell Clicker what we want."
   ]
  },
  {
   "cell_type": "code",
   "execution_count": 5,
   "metadata": {},
   "outputs": [],
   "source": [
    "def get_metrics(event):\n",
    "    c = Clicker(event)\n",
    "    dt, metrics = c.getdata()\n",
    "    return dt, metrics\n",
    "\n",
    "raw_dt, metrics = get_metrics(event) "
   ]
  },
  {
   "cell_type": "markdown",
   "metadata": {},
   "source": [
    "## Transform Data"
   ]
  },
  {
   "cell_type": "markdown",
   "metadata": {},
   "source": [
    "The data is returned in arrays.  *raw_dt* is an array of unix timestamps.  metrics is an array of arrays for each metric we requested.\n",
    "The format of the dates are not ideal, so we need to manipulate them first.  See the *fix_dates* function and how we do that.  The new list for dates is called simply *dt*"
   ]
  },
  {
   "cell_type": "code",
   "execution_count": 6,
   "metadata": {},
   "outputs": [],
   "source": [
    "def fix_dates(data):\n",
    "    fixed=[]\n",
    "    for dt in data:\n",
    "        fixed.append( long(str(dt/1000)) ) \n",
    "    return mdates.epoch2num(fixed)\n",
    "\n",
    "dt=fix_dates(raw_dt)"
   ]
  },
  {
   "cell_type": "markdown",
   "metadata": {},
   "source": [
    "*fix_dates* alters the dates for plotting, but its still not something a human can read.  Below is a quick function to that can do that.  We don't need it for plotting, but we will output the data to a table to get a look at it in the next step."
   ]
  },
  {
   "cell_type": "code",
   "execution_count": 7,
   "metadata": {},
   "outputs": [
    {
     "data": {
      "text/plain": [
       "['2018-08-01 06:33:00',\n",
       " '2018-08-01 06:34:00',\n",
       " '2018-08-01 06:35:00',\n",
       " '2018-08-01 06:36:00',\n",
       " '2018-08-01 06:37:00']"
      ]
     },
     "execution_count": 7,
     "metadata": {},
     "output_type": "execute_result"
    }
   ],
   "source": [
    "def convert_dt(dt):    \n",
    "    return(datetime.datetime.fromtimestamp(int(dt)/1000).strftime('%Y-%m-%d %H:%M:%S'))\n",
    "\n",
    "map(convert_dt, raw_dt)[0:5]"
   ]
  },
  {
   "cell_type": "markdown",
   "metadata": {},
   "source": [
    "## Model the data"
   ]
  },
  {
   "cell_type": "markdown",
   "metadata": {},
   "source": [
    "Use pandas to create a dataframe to view the data as a table.  This will allow us to inspect the data before graphing it.  Review this function, you can look deeper into [pandas dataframe](https://pandas.pydata.org/pandas-docs/stable/generated/pandas.DataFrame.html) later if you want to know more.\n",
    "\n",
    "We output the top 15 records."
   ]
  },
  {
   "cell_type": "code",
   "execution_count": 8,
   "metadata": {},
   "outputs": [
    {
     "data": {
      "text/html": [
       "<div>\n",
       "<style scoped>\n",
       "    .dataframe tbody tr th:only-of-type {\n",
       "        vertical-align: middle;\n",
       "    }\n",
       "\n",
       "    .dataframe tbody tr th {\n",
       "        vertical-align: top;\n",
       "    }\n",
       "\n",
       "    .dataframe thead th {\n",
       "        text-align: right;\n",
       "    }\n",
       "</style>\n",
       "<table border=\"1\" class=\"dataframe\">\n",
       "  <thead>\n",
       "    <tr style=\"text-align: right;\">\n",
       "      <th></th>\n",
       "      <th>cmd_set</th>\n",
       "      <th>cmd_get</th>\n",
       "      <th>cpu_utilization_rate</th>\n",
       "    </tr>\n",
       "  </thead>\n",
       "  <tbody>\n",
       "    <tr>\n",
       "      <th>2018-08-01 06:33:00</th>\n",
       "      <td>0.107143</td>\n",
       "      <td>13.222882</td>\n",
       "      <td>37.896570</td>\n",
       "    </tr>\n",
       "    <tr>\n",
       "      <th>2018-08-01 06:34:00</th>\n",
       "      <td>0.178571</td>\n",
       "      <td>12.799299</td>\n",
       "      <td>17.120648</td>\n",
       "    </tr>\n",
       "    <tr>\n",
       "      <th>2018-08-01 06:35:00</th>\n",
       "      <td>0.071429</td>\n",
       "      <td>12.817962</td>\n",
       "      <td>17.703125</td>\n",
       "    </tr>\n",
       "    <tr>\n",
       "      <th>2018-08-01 06:36:00</th>\n",
       "      <td>0.072782</td>\n",
       "      <td>12.825477</td>\n",
       "      <td>17.810358</td>\n",
       "    </tr>\n",
       "    <tr>\n",
       "      <th>2018-08-01 06:37:00</th>\n",
       "      <td>0.071429</td>\n",
       "      <td>12.984970</td>\n",
       "      <td>18.924409</td>\n",
       "    </tr>\n",
       "    <tr>\n",
       "      <th>2018-08-01 06:38:00</th>\n",
       "      <td>0.211903</td>\n",
       "      <td>13.390775</td>\n",
       "      <td>20.593682</td>\n",
       "    </tr>\n",
       "    <tr>\n",
       "      <th>2018-08-01 06:39:00</th>\n",
       "      <td>0.142857</td>\n",
       "      <td>13.518397</td>\n",
       "      <td>18.781261</td>\n",
       "    </tr>\n",
       "    <tr>\n",
       "      <th>2018-08-01 06:40:00</th>\n",
       "      <td>0.072825</td>\n",
       "      <td>13.068258</td>\n",
       "      <td>19.944295</td>\n",
       "    </tr>\n",
       "    <tr>\n",
       "      <th>2018-08-01 06:41:00</th>\n",
       "      <td>0.071429</td>\n",
       "      <td>13.160360</td>\n",
       "      <td>18.432110</td>\n",
       "    </tr>\n",
       "    <tr>\n",
       "      <th>2018-08-01 06:42:00</th>\n",
       "      <td>0.107143</td>\n",
       "      <td>12.827646</td>\n",
       "      <td>20.543661</td>\n",
       "    </tr>\n",
       "    <tr>\n",
       "      <th>2018-08-01 06:43:00</th>\n",
       "      <td>0.214286</td>\n",
       "      <td>13.146742</td>\n",
       "      <td>18.748623</td>\n",
       "    </tr>\n",
       "    <tr>\n",
       "      <th>2018-08-01 06:44:00</th>\n",
       "      <td>0.141189</td>\n",
       "      <td>13.088773</td>\n",
       "      <td>18.126597</td>\n",
       "    </tr>\n",
       "    <tr>\n",
       "      <th>2018-08-01 06:45:00</th>\n",
       "      <td>0.071464</td>\n",
       "      <td>13.031201</td>\n",
       "      <td>18.339643</td>\n",
       "    </tr>\n",
       "    <tr>\n",
       "      <th>2018-08-01 06:46:00</th>\n",
       "      <td>0.076718</td>\n",
       "      <td>12.970243</td>\n",
       "      <td>17.432476</td>\n",
       "    </tr>\n",
       "    <tr>\n",
       "      <th>2018-08-01 06:47:00</th>\n",
       "      <td>0.375000</td>\n",
       "      <td>13.571429</td>\n",
       "      <td>19.556709</td>\n",
       "    </tr>\n",
       "  </tbody>\n",
       "</table>\n",
       "</div>"
      ],
      "text/plain": [
       "                      cmd_set    cmd_get  cpu_utilization_rate\n",
       "2018-08-01 06:33:00  0.107143  13.222882             37.896570\n",
       "2018-08-01 06:34:00  0.178571  12.799299             17.120648\n",
       "2018-08-01 06:35:00  0.071429  12.817962             17.703125\n",
       "2018-08-01 06:36:00  0.072782  12.825477             17.810358\n",
       "2018-08-01 06:37:00  0.071429  12.984970             18.924409\n",
       "2018-08-01 06:38:00  0.211903  13.390775             20.593682\n",
       "2018-08-01 06:39:00  0.142857  13.518397             18.781261\n",
       "2018-08-01 06:40:00  0.072825  13.068258             19.944295\n",
       "2018-08-01 06:41:00  0.071429  13.160360             18.432110\n",
       "2018-08-01 06:42:00  0.107143  12.827646             20.543661\n",
       "2018-08-01 06:43:00  0.214286  13.146742             18.748623\n",
       "2018-08-01 06:44:00  0.141189  13.088773             18.126597\n",
       "2018-08-01 06:45:00  0.071464  13.031201             18.339643\n",
       "2018-08-01 06:46:00  0.076718  12.970243             17.432476\n",
       "2018-08-01 06:47:00  0.375000  13.571429             19.556709"
      ]
     },
     "execution_count": 8,
     "metadata": {},
     "output_type": "execute_result"
    }
   ],
   "source": [
    "str_dt = map(convert_dt, raw_dt)\n",
    "\n",
    "def tabulate_data(top):\n",
    "    df=pd.DataFrame(metrics, columns= str_dt)\n",
    "    row_names = {}\n",
    "    for idx, metric in enumerate(event['metrics']):\n",
    "        row_names[idx] = metric\n",
    "    df.rename(index=row_names, inplace=True)\n",
    "    return df.transpose()[0:top]\n",
    "\n",
    "tabulate_data(top=15)"
   ]
  },
  {
   "cell_type": "markdown",
   "metadata": {},
   "source": [
    "## Visualization"
   ]
  },
  {
   "cell_type": "markdown",
   "metadata": {},
   "source": [
    "Finally, we plot the data using matpyplot.  "
   ]
  },
  {
   "cell_type": "code",
   "execution_count": 9,
   "metadata": {},
   "outputs": [
    {
     "data": {
      "image/png": "[encoded data removed]",
      "text/plain": [
       "<Figure size 432x288 with 1 Axes>"
      ]
     },
     "metadata": {},
     "output_type": "display_data"
    }
   ],
   "source": [
    "def plot(dt,data, fmt):\n",
    "    for m in data:\n",
    "        plt.plot_date(x=dt, y=m, fmt=fmt)\n",
    "    plt.title('/'.join(event['metrics']))\n",
    "    plt.ylabel('cnt')\n",
    "    plt.grid(True)\n",
    "    fig = plt.figure(1)\n",
    "    fig.autofmt_xdate()\n",
    "    plt.show()\n",
    " \n",
    "plot(dt,metrics,fmt='o')"
   ]
  }
 ],
 "metadata": {
  "kernelspec": {
   "display_name": "Python 2",
   "language": "python",
   "name": "python2"
  },
  "language_info": {
   "codemirror_mode": {
    "name": "ipython",
    "version": 2
   },
   "file_extension": ".py",
   "mimetype": "text/x-python",
   "name": "python",
   "nbconvert_exporter": "python",
   "pygments_lexer": "ipython2",
   "version": "2.7.10"
  }
 },
 "nbformat": 4,
 "nbformat_minor": 2
}
