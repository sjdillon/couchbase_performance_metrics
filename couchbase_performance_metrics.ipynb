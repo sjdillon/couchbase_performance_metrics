{
 "cells": [
  {
   "cell_type": "markdown",
   "metadata": {},
   "source": [
    "## How To Get Couchbase Performance Metrics With Python"
   ]
  },
  {
   "cell_type": "markdown",
   "metadata": {},
   "source": [
    "### Part 1: Collecting Couchbase metrics from the Couchbase API"
   ]
  },
  {
   "cell_type": "markdown",
   "metadata": {},
   "source": [
    "### Introduction"
   ]
  },
  {
   "cell_type": "markdown",
   "metadata": {},
   "source": [
    "Couchbase provides an administration console with graphs of performance metrics as well as a [REST](https://developer.couchbase.com/documentation/server/3.x/admin/REST/rest-bucket-stats.html) interface. The graphs are useful for quick analysis, but the console lacks the ability to view metrics graphed over each other and give no way of exporting the raw data.\n",
    "\n",
    "This article shows how to retrieve metric data from the REST api and examples of how to plot the data for deeper analysis and visualization.  It includes a python class that can be imported and used to simplify the data extraction process."
   ]
  },
  {
   "cell_type": "markdown",
   "metadata": {},
   "source": [
    "### Quick Starter on getting Couchbase metrics "
   ]
  },
  {
   "cell_type": "markdown",
   "metadata": {},
   "source": [
    "The Clicker class abstracts the REST call to retrieve bucket data.  Use it as an example of how to extract bucket statistics from the Couchbase REST API or import it directly into your python code and use it."
   ]
  },
  {
   "cell_type": "code",
   "execution_count": 1,
   "metadata": {},
   "outputs": [
    {
     "name": "stdout",
     "output_type": "stream",
     "text": [
      "Requirement already satisfied: pandas in x:\\36f4dd02-7dab-4aeb-853e-298c83155b27\\lib\\site-packages (0.23.3)\n",
      "Requirement already satisfied: numpy in x:\\36f4dd02-7dab-4aeb-853e-298c83155b27\\lib\\site-packages (1.15.0)\n",
      "Requirement already satisfied: matplotlib in x:\\36f4dd02-7dab-4aeb-853e-298c83155b27\\lib\\site-packages (2.2.2)\n",
      "Requirement already satisfied: python-dateutil>=2.5.0 in x:\\36f4dd02-7dab-4aeb-853e-298c83155b27\\lib\\site-packages (from pandas) (2.7.3)\n",
      "Requirement already satisfied: pytz>=2011k in x:\\36f4dd02-7dab-4aeb-853e-298c83155b27\\lib\\site-packages (from pandas) (2018.5)\n",
      "Requirement already satisfied: pyparsing!=2.0.4,!=2.1.2,!=2.1.6,>=2.0.1 in x:\\36f4dd02-7dab-4aeb-853e-298c83155b27\\lib\\site-packages (from matplotlib) (2.2.0)\n",
      "Requirement already satisfied: backports.functools-lru-cache in x:\\36f4dd02-7dab-4aeb-853e-298c83155b27\\lib\\site-packages (from matplotlib) (1.5)\n",
      "Requirement already satisfied: six>=1.10 in x:\\36f4dd02-7dab-4aeb-853e-298c83155b27\\lib\\site-packages (from matplotlib) (1.11.0)\n",
      "Requirement already satisfied: kiwisolver>=1.0.1 in x:\\36f4dd02-7dab-4aeb-853e-298c83155b27\\lib\\site-packages (from matplotlib) (1.0.1)\n",
      "Requirement already satisfied: cycler>=0.10 in x:\\36f4dd02-7dab-4aeb-853e-298c83155b27\\lib\\site-packages (from matplotlib) (0.10.0)\n",
      "Requirement already satisfied: setuptools in x:\\36f4dd02-7dab-4aeb-853e-298c83155b27\\lib\\site-packages (from kiwisolver>=1.0.1->matplotlib) (40.0.0)\n"
     ]
    }
   ],
   "source": [
    "!pip install pandas numpy matplotlib"
   ]
  },
  {
   "cell_type": "code",
   "execution_count": 2,
   "metadata": {},
   "outputs": [],
   "source": [
    "# %load clicker.py\n",
    "import requests\n",
    "import numpy\n",
    "import datetime\n",
    "import time\n",
    "import csv\n",
    "import json\n",
    "import logging\n",
    "\n",
    "logging.basicConfig(format=\"%(asctime)s - %(thread)s - %(levelname)s - %(message)s\")\n",
    "logger = logging.getLogger()\n",
    "logger.setLevel(logging.INFO)\n",
    "\n",
    "class Clicker:\n",
    "    \"\"\" gets stuff from the couch \"\"\"\n",
    "    def __init__(self, event):\n",
    "        if 'debug' in event and event['debug'] == True:\n",
    "            self._set_logger(logging.DEBUG)\n",
    "        self.event = event\n",
    "        self.host = event['host']\n",
    "        self.bucket = event['bucket']\n",
    "        self.zoom = event['zoom']\n",
    "        self.metrics = event['metrics']\n",
    "        self.creds = event['creds']\n",
    "        self.session = self.get_session()\n",
    "        self.uri = self.geturi()\n",
    "        logger.debug(event)\n",
    "\n",
    "    def _set_logger(self, level=logging.INFO):\n",
    "        logger.setLevel(level)\n",
    "\n",
    "    def get_session(self):\n",
    "        session = requests.Session()\n",
    "        return session\n",
    "\n",
    "    def geturi(self):\n",
    "        url = \"http://{host}:8091/pools/default/buckets/{bucket}/stats?zoom={zoom}\".format(host=self.host,\n",
    "                                                                                           bucket=self.bucket,\n",
    "                                                                                           zoom=self.zoom)\n",
    "        return url\n",
    "\n",
    "    def getraw(self):\n",
    "        raw_data = self.session.get(\"%s\" % (self.uri), auth=(self.creds[0], self.creds[1])).json()\n",
    "        return raw_data\n",
    "\n",
    "    def getdata(self):\n",
    "        data = self.getraw()\n",
    "        return_data = []\n",
    "        ts = data['op']['samples']['timestamp']\n",
    "        for metric in self.metrics:\n",
    "            if metric in data['op']['samples']:\n",
    "                dataset = data['op']['samples'][metric]\n",
    "                if 'mem' in metric or 'disk_size' in metric:\n",
    "                    dataset[:] = [int(x / (1024 * 1024)) for x in metrics]\n",
    "                return_data.append(dataset)\n",
    "            else:\n",
    "                return False\n",
    "        return ts, return_data"
   ]
  },
  {
   "cell_type": "markdown",
   "metadata": {},
   "source": [
    "## Imports"
   ]
  },
  {
   "cell_type": "code",
   "execution_count": 10,
   "metadata": {},
   "outputs": [],
   "source": [
    "import clicker\n",
    "import numpy as np\n",
    "import matplotlib.pyplot as plt\n",
    "import matplotlib.dates as mdates\n",
    "import pandas as pd"
   ]
  },
  {
   "cell_type": "markdown",
   "metadata": {},
   "source": [
    "## Input"
   ]
  },
  {
   "cell_type": "code",
   "execution_count": 4,
   "metadata": {},
   "outputs": [],
   "source": [
    "event = {\n",
    "    'host':'10.10.10.60',\n",
    "    'bucket': 'NeonCache',\n",
    "    'zoom': 'day',\n",
    "    'metrics': ['cmd_set','cmd_get','cpu_utilization_rate'],\n",
    "    'creds' : ['readonly', 'xxxxxxxxxxxx']\n",
    "    }"
   ]
  },
  {
   "cell_type": "markdown",
   "metadata": {},
   "source": [
    "## Get Data"
   ]
  },
  {
   "cell_type": "code",
   "execution_count": 5,
   "metadata": {},
   "outputs": [],
   "source": [
    "def get_metrics(event):\n",
    "    c = clicker.Clicker(event)\n",
    "    dt, metrics = c.getdata()\n",
    "    return dt, metrics\n",
    "\n",
    "raw_dt, metrics = get_metrics(event) "
   ]
  },
  {
   "cell_type": "markdown",
   "metadata": {},
   "source": [
    "## Transform Data"
   ]
  },
  {
   "cell_type": "markdown",
   "metadata": {},
   "source": [
    "prepare the date array for plotting"
   ]
  },
  {
   "cell_type": "code",
   "execution_count": 6,
   "metadata": {},
   "outputs": [],
   "source": [
    "def fix_dates(data):\n",
    "    fixed=[]\n",
    "    for dt in data:\n",
    "        fixed.append( long(str(dt/1000)) ) \n",
    "    return mdates.epoch2num(fixed)\n",
    "\n",
    "dt=fix_dates(raw_dt)"
   ]
  },
  {
   "cell_type": "markdown",
   "metadata": {},
   "source": [
    "convert unix timestamp to something human readable. "
   ]
  },
  {
   "cell_type": "code",
   "execution_count": 7,
   "metadata": {},
   "outputs": [
    {
     "data": {
      "text/plain": [
       "['2018-07-31 10:46:00',\n",
       " '2018-07-31 10:47:00',\n",
       " '2018-07-31 10:48:00',\n",
       " '2018-07-31 10:49:00',\n",
       " '2018-07-31 10:50:00']"
      ]
     },
     "execution_count": 7,
     "metadata": {},
     "output_type": "execute_result"
    }
   ],
   "source": [
    "def convert_dt(dt):    \n",
    "    return(datetime.datetime.fromtimestamp(int(dt)/1000).strftime('%Y-%m-%d %H:%M:%S'))\n",
    "\n",
    "map(convert_dt, raw_dt)[0:5]"
   ]
  },
  {
   "cell_type": "markdown",
   "metadata": {},
   "source": [
    "## Model the data"
   ]
  },
  {
   "cell_type": "markdown",
   "metadata": {},
   "source": [
    "Use pandas to create a dataframe to view the data as a table."
   ]
  },
  {
   "cell_type": "code",
   "execution_count": 8,
   "metadata": {},
   "outputs": [
    {
     "data": {
      "text/html": [
       "<div>\n",
       "<style scoped>\n",
       "    .dataframe tbody tr th:only-of-type {\n",
       "        vertical-align: middle;\n",
       "    }\n",
       "\n",
       "    .dataframe tbody tr th {\n",
       "        vertical-align: top;\n",
       "    }\n",
       "\n",
       "    .dataframe thead th {\n",
       "        text-align: right;\n",
       "    }\n",
       "</style>\n",
       "<table border=\"1\" class=\"dataframe\">\n",
       "  <thead>\n",
       "    <tr style=\"text-align: right;\">\n",
       "      <th></th>\n",
       "      <th>cmd_set</th>\n",
       "      <th>cmd_get</th>\n",
       "      <th>cpu_utilization_rate</th>\n",
       "    </tr>\n",
       "  </thead>\n",
       "  <tbody>\n",
       "    <tr>\n",
       "      <th>2018-07-31 10:46:00</th>\n",
       "      <td>0.103617</td>\n",
       "      <td>17.285467</td>\n",
       "      <td>24.397350</td>\n",
       "    </tr>\n",
       "    <tr>\n",
       "      <th>2018-07-31 10:47:00</th>\n",
       "      <td>12.328989</td>\n",
       "      <td>39.137398</td>\n",
       "      <td>22.743569</td>\n",
       "    </tr>\n",
       "    <tr>\n",
       "      <th>2018-07-31 10:48:00</th>\n",
       "      <td>0.142857</td>\n",
       "      <td>15.207308</td>\n",
       "      <td>23.636377</td>\n",
       "    </tr>\n",
       "    <tr>\n",
       "      <th>2018-07-31 10:49:00</th>\n",
       "      <td>0.249964</td>\n",
       "      <td>18.573173</td>\n",
       "      <td>15.260794</td>\n",
       "    </tr>\n",
       "    <tr>\n",
       "      <th>2018-07-31 10:50:00</th>\n",
       "      <td>0.192346</td>\n",
       "      <td>18.763770</td>\n",
       "      <td>16.698813</td>\n",
       "    </tr>\n",
       "    <tr>\n",
       "      <th>2018-07-31 10:51:00</th>\n",
       "      <td>0.388060</td>\n",
       "      <td>18.669139</td>\n",
       "      <td>14.956505</td>\n",
       "    </tr>\n",
       "    <tr>\n",
       "      <th>2018-07-31 10:52:00</th>\n",
       "      <td>0.382686</td>\n",
       "      <td>14.997750</td>\n",
       "      <td>20.656938</td>\n",
       "    </tr>\n",
       "    <tr>\n",
       "      <th>2018-07-31 10:53:00</th>\n",
       "      <td>0.285714</td>\n",
       "      <td>15.270525</td>\n",
       "      <td>16.847460</td>\n",
       "    </tr>\n",
       "    <tr>\n",
       "      <th>2018-07-31 10:54:00</th>\n",
       "      <td>0.142929</td>\n",
       "      <td>18.580411</td>\n",
       "      <td>14.216631</td>\n",
       "    </tr>\n",
       "    <tr>\n",
       "      <th>2018-07-31 10:55:00</th>\n",
       "      <td>0.178643</td>\n",
       "      <td>19.545286</td>\n",
       "      <td>16.937439</td>\n",
       "    </tr>\n",
       "    <tr>\n",
       "      <th>2018-07-31 10:56:00</th>\n",
       "      <td>0.375000</td>\n",
       "      <td>19.796182</td>\n",
       "      <td>15.917630</td>\n",
       "    </tr>\n",
       "    <tr>\n",
       "      <th>2018-07-31 10:57:00</th>\n",
       "      <td>0.273829</td>\n",
       "      <td>15.471106</td>\n",
       "      <td>20.286359</td>\n",
       "    </tr>\n",
       "    <tr>\n",
       "      <th>2018-07-31 10:58:00</th>\n",
       "      <td>0.178501</td>\n",
       "      <td>15.644008</td>\n",
       "      <td>14.910884</td>\n",
       "    </tr>\n",
       "    <tr>\n",
       "      <th>2018-07-31 10:59:00</th>\n",
       "      <td>0.440691</td>\n",
       "      <td>19.315764</td>\n",
       "      <td>19.988254</td>\n",
       "    </tr>\n",
       "    <tr>\n",
       "      <th>2018-07-31 11:00:00</th>\n",
       "      <td>0.142964</td>\n",
       "      <td>19.464810</td>\n",
       "      <td>61.629486</td>\n",
       "    </tr>\n",
       "  </tbody>\n",
       "</table>\n",
       "</div>"
      ],
      "text/plain": [
       "                       cmd_set    cmd_get  cpu_utilization_rate\n",
       "2018-07-31 10:46:00   0.103617  17.285467             24.397350\n",
       "2018-07-31 10:47:00  12.328989  39.137398             22.743569\n",
       "2018-07-31 10:48:00   0.142857  15.207308             23.636377\n",
       "2018-07-31 10:49:00   0.249964  18.573173             15.260794\n",
       "2018-07-31 10:50:00   0.192346  18.763770             16.698813\n",
       "2018-07-31 10:51:00   0.388060  18.669139             14.956505\n",
       "2018-07-31 10:52:00   0.382686  14.997750             20.656938\n",
       "2018-07-31 10:53:00   0.285714  15.270525             16.847460\n",
       "2018-07-31 10:54:00   0.142929  18.580411             14.216631\n",
       "2018-07-31 10:55:00   0.178643  19.545286             16.937439\n",
       "2018-07-31 10:56:00   0.375000  19.796182             15.917630\n",
       "2018-07-31 10:57:00   0.273829  15.471106             20.286359\n",
       "2018-07-31 10:58:00   0.178501  15.644008             14.910884\n",
       "2018-07-31 10:59:00   0.440691  19.315764             19.988254\n",
       "2018-07-31 11:00:00   0.142964  19.464810             61.629486"
      ]
     },
     "execution_count": 8,
     "metadata": {},
     "output_type": "execute_result"
    }
   ],
   "source": [
    "str_dt = map(convert_dt, raw_dt)\n",
    "\n",
    "def tabulate_data(top):\n",
    "    df=pd.DataFrame(metrics, columns= str_dt)\n",
    "    row_names = {}\n",
    "    for idx, metric in enumerate(event['metrics']):\n",
    "        row_names[idx] = metric\n",
    "    df.rename(index=row_names, inplace=True)\n",
    "    return df.transpose()[0:top]\n",
    "\n",
    "tabulate_data(top=15)"
   ]
  },
  {
   "cell_type": "markdown",
   "metadata": {},
   "source": [
    "## Visualization"
   ]
  },
  {
   "cell_type": "code",
   "execution_count": 9,
   "metadata": {},
   "outputs": [
    {
     "data": {
      "image/png": "[encoded data removed]",
      "text/plain": [
       "<Figure size 432x288 with 1 Axes>"
      ]
     },
     "metadata": {},
     "output_type": "display_data"
    }
   ],
   "source": [
    "def plot(dt,data, fmt):\n",
    "    for m in data:\n",
    "        plt.plot_date(x=dt, y=m, fmt=fmt)\n",
    "    plt.title('/'.join(event['metrics']))\n",
    "    plt.ylabel('cnt')\n",
    "    plt.grid(True)\n",
    "    fig = plt.figure(1)\n",
    "    fig.autofmt_xdate()\n",
    "    plt.show()\n",
    " \n",
    "plot(dt,metrics,fmt='o')"
   ]
  }
 ],
 "metadata": {
  "kernelspec": {
   "display_name": "Python 2",
   "language": "python",
   "name": "python2"
  },
  "language_info": {
   "codemirror_mode": {
    "name": "ipython",
    "version": 2
   },
   "file_extension": ".py",
   "mimetype": "text/x-python",
   "name": "python",
   "nbconvert_exporter": "python",
   "pygments_lexer": "ipython2",
   "version": "2.7.10"
  }
 },
 "nbformat": 4,
 "nbformat_minor": 2
}
